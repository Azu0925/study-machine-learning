{
 "cells": [
  {
   "cell_type": "code",
   "execution_count": null,
   "outputs": [],
   "source": [
    "!pip install tensorflow"
   ],
   "metadata": {
    "collapsed": false
   },
   "id": "d49b85ebfe0bf24a"
  },
  {
   "cell_type": "markdown",
   "source": [
    "KerasでのMNISTデータセットの読み込み"
   ],
   "metadata": {
    "collapsed": false
   },
   "id": "5e44618a9b1b6a6a"
  },
  {
   "cell_type": "code",
   "execution_count": null,
   "outputs": [],
   "source": [
    "from keras.datasets import mnist\n",
    "\n",
    "(train_images, train_labels), (test_images, test_labels) = mnist.load_data()\n",
    "print(train_images.shape)\n"
   ],
   "metadata": {
    "collapsed": false
   },
   "id": "21c3eefdeb838df5"
  },
  {
   "cell_type": "code",
   "execution_count": 8,
   "outputs": [
    {
     "name": "stdout",
     "output_type": "stream",
     "text": [
      "60000\n"
     ]
    }
   ],
   "source": [
    "print(len(train_labels))"
   ],
   "metadata": {
    "collapsed": false,
    "ExecuteTime": {
     "end_time": "2023-09-23T15:42:00.014115Z",
     "start_time": "2023-09-23T15:42:00.005395Z"
    }
   },
   "id": "eededd963fbe8b94"
  },
  {
   "cell_type": "code",
   "execution_count": 9,
   "outputs": [
    {
     "name": "stdout",
     "output_type": "stream",
     "text": [
      "[5 0 4 ... 5 6 8]\n"
     ]
    }
   ],
   "source": [
    "print(train_labels)"
   ],
   "metadata": {
    "collapsed": false,
    "ExecuteTime": {
     "end_time": "2023-09-23T15:42:01.913145Z",
     "start_time": "2023-09-23T15:42:01.905455Z"
    }
   },
   "id": "2e17dc16d6700e30"
  },
  {
   "cell_type": "markdown",
   "source": [
    "リスト2-2: ニューラルネットワークのアーキテクチャ"
   ],
   "metadata": {
    "collapsed": false
   },
   "id": "749e7c6174860212"
  },
  {
   "cell_type": "code",
   "execution_count": 10,
   "outputs": [],
   "source": [
    "from keras import models\n",
    "from keras import layers\n",
    "\n",
    "network = models.Sequential()\n",
    "network.add(layers.Dense(512, activation = 'relu', input_shape = (28 * 28,)))\n",
    "network.add(layers.Dense(10, activation = 'softmax'))"
   ],
   "metadata": {
    "collapsed": false,
    "ExecuteTime": {
     "end_time": "2023-09-23T15:45:13.029643Z",
     "start_time": "2023-09-23T15:45:12.977937Z"
    }
   },
   "id": "65be3b77979d4197"
  }
 ],
 "metadata": {
  "kernelspec": {
   "display_name": "Python 3 (ipykernel)",
   "language": "python",
   "name": "python3"
  },
  "language_info": {
   "codemirror_mode": {
    "name": "ipython",
    "version": 3
   },
   "file_extension": ".py",
   "mimetype": "text/x-python",
   "name": "python",
   "nbconvert_exporter": "python",
   "pygments_lexer": "ipython3",
   "version": "3.11.4"
  }
 },
 "nbformat": 4,
 "nbformat_minor": 5
}
