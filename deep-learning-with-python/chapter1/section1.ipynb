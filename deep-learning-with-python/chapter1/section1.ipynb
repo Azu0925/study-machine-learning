{
 "cells": [
  {
   "cell_type": "markdown",
   "source": [
    "# 1.1 AI、機械学習、ディープラーニング\n",
    "## 1.1.2 機械学習\n"
   ],
   "metadata": {
    "collapsed": false
   },
   "id": "1647aa3083aaac13"
  }
 ],
 "metadata": {
  "kernelspec": {
   "display_name": "Python 3",
   "language": "python",
   "name": "python3"
  },
  "language_info": {
   "codemirror_mode": {
    "name": "ipython",
    "version": 2
   },
   "file_extension": ".py",
   "mimetype": "text/x-python",
   "name": "python",
   "nbconvert_exporter": "python",
   "pygments_lexer": "ipython2",
   "version": "2.7.6"
  }
 },
 "nbformat": 4,
 "nbformat_minor": 5
}
